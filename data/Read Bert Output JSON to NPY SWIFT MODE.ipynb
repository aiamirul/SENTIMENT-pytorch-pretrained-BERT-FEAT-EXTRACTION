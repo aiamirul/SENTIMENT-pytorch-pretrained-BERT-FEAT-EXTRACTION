{
 "cells": [
  {
   "cell_type": "markdown",
   "id": "2a6f2f06",
   "metadata": {},
   "source": [
    "# Load 1 by 1 JSON output and make a CSV for 1 class (repeat each class)"
   ]
  },
  {
   "cell_type": "code",
   "execution_count": 2,
   "id": "0951924b",
   "metadata": {},
   "outputs": [],
   "source": [
    "import pandas as pd\n",
    "import numpy as np\n"
   ]
  },
  {
   "cell_type": "code",
   "execution_count": null,
   "id": "10bf6bd2",
   "metadata": {},
   "outputs": [],
   "source": [
    "\n",
    "rootDirectory = \"C:/Users/USER/Documents/GitHub/pytorch-pretrained-BERT/\"\n",
    "rootDirectory = ''\n",
    "inputPath = rootDirectory + \"NE.json\"\n",
    "classLabel = '2'\n",
    "outputCSV = 'BERT-CLS-EMBEDDING-'+classLabel+'.csv'\n",
    "\n",
    "#Read Json\n",
    "df = pd.read_json (inputPath, lines=True)\n",
    "X = np.arange(start=1, stop=769, step=1) # Dummy Data\n",
    "\n",
    "for i in df.features:\n",
    "    #Read Json in Json\n",
    "    Indf = pd.DataFrame.from_dict(i[0])\n",
    "    print(Indf.shape)\n",
    "    #Read Json in Json\n",
    "    Layersdf = pd.DataFrame.from_dict(Indf.layers[0])\n",
    "    \n",
    "    data = Layersdf.to_numpy()\n",
    "    print(\"Take 1 Vector (First): \", data.shape)\n",
    "    print(\"Take Values: \",data[:,1].shape)\n",
    "    \n",
    "    cleanData = data[:,1]\n",
    "    \n",
    "    #Append data to stack with label\n",
    "    X = np.vstack((X,cleanData))\n",
    "    print(\"Stack : \", X.shape)\n",
    "   \n",
    "dataset = pd.DataFrame(X)\n",
    "##DROP THE FIRST ROW \n",
    "dataset = dataset.iloc[1: , :]\n",
    "\n",
    "dataset['LABEL'] = classLabel # POSITIVE = 1 / NEGATIVE = 2 / NEUTRAL 3   \n",
    "dataset.to_csv(outputCSV,index=False)"
   ]
  },
  {
   "cell_type": "markdown",
   "id": "6f08dec0",
   "metadata": {},
   "source": [
    "# Load all CSV and vertically stack them"
   ]
  },
  {
   "cell_type": "code",
   "execution_count": 3,
   "id": "df4559bb",
   "metadata": {},
   "outputs": [
    {
     "data": {
      "text/html": [
       "<div>\n",
       "<style scoped>\n",
       "    .dataframe tbody tr th:only-of-type {\n",
       "        vertical-align: middle;\n",
       "    }\n",
       "\n",
       "    .dataframe tbody tr th {\n",
       "        vertical-align: top;\n",
       "    }\n",
       "\n",
       "    .dataframe thead th {\n",
       "        text-align: right;\n",
       "    }\n",
       "</style>\n",
       "<table border=\"1\" class=\"dataframe\">\n",
       "  <thead>\n",
       "    <tr style=\"text-align: right;\">\n",
       "      <th></th>\n",
       "      <th>0</th>\n",
       "      <th>1</th>\n",
       "      <th>2</th>\n",
       "      <th>3</th>\n",
       "      <th>4</th>\n",
       "      <th>5</th>\n",
       "      <th>6</th>\n",
       "      <th>7</th>\n",
       "      <th>8</th>\n",
       "      <th>9</th>\n",
       "      <th>...</th>\n",
       "      <th>759</th>\n",
       "      <th>760</th>\n",
       "      <th>761</th>\n",
       "      <th>762</th>\n",
       "      <th>763</th>\n",
       "      <th>764</th>\n",
       "      <th>765</th>\n",
       "      <th>766</th>\n",
       "      <th>767</th>\n",
       "      <th>LABEL</th>\n",
       "    </tr>\n",
       "  </thead>\n",
       "  <tbody>\n",
       "    <tr>\n",
       "      <th>0</th>\n",
       "      <td>-0.435603</td>\n",
       "      <td>-0.215717</td>\n",
       "      <td>0.196117</td>\n",
       "      <td>-0.344362</td>\n",
       "      <td>-0.173273</td>\n",
       "      <td>-0.542964</td>\n",
       "      <td>0.890772</td>\n",
       "      <td>0.144833</td>\n",
       "      <td>-0.097710</td>\n",
       "      <td>-0.427126</td>\n",
       "      <td>...</td>\n",
       "      <td>-0.642096</td>\n",
       "      <td>0.102244</td>\n",
       "      <td>-0.004700</td>\n",
       "      <td>-0.018114</td>\n",
       "      <td>0.053020</td>\n",
       "      <td>-0.396759</td>\n",
       "      <td>-0.899932</td>\n",
       "      <td>0.210677</td>\n",
       "      <td>0.117965</td>\n",
       "      <td>1</td>\n",
       "    </tr>\n",
       "    <tr>\n",
       "      <th>1</th>\n",
       "      <td>-0.220295</td>\n",
       "      <td>0.036750</td>\n",
       "      <td>-0.130482</td>\n",
       "      <td>-0.041268</td>\n",
       "      <td>-0.478102</td>\n",
       "      <td>-0.228912</td>\n",
       "      <td>0.020297</td>\n",
       "      <td>0.262901</td>\n",
       "      <td>0.053796</td>\n",
       "      <td>0.010153</td>\n",
       "      <td>...</td>\n",
       "      <td>-0.486429</td>\n",
       "      <td>0.115941</td>\n",
       "      <td>0.104470</td>\n",
       "      <td>0.168067</td>\n",
       "      <td>0.014726</td>\n",
       "      <td>-0.348303</td>\n",
       "      <td>-0.360647</td>\n",
       "      <td>0.262516</td>\n",
       "      <td>0.288666</td>\n",
       "      <td>1</td>\n",
       "    </tr>\n",
       "    <tr>\n",
       "      <th>2</th>\n",
       "      <td>-0.193476</td>\n",
       "      <td>-0.152704</td>\n",
       "      <td>-0.125101</td>\n",
       "      <td>-0.022208</td>\n",
       "      <td>-0.361940</td>\n",
       "      <td>-0.647612</td>\n",
       "      <td>0.504564</td>\n",
       "      <td>0.626000</td>\n",
       "      <td>-0.280302</td>\n",
       "      <td>-0.184918</td>\n",
       "      <td>...</td>\n",
       "      <td>-0.278554</td>\n",
       "      <td>0.023960</td>\n",
       "      <td>0.064582</td>\n",
       "      <td>0.154506</td>\n",
       "      <td>-0.225121</td>\n",
       "      <td>-0.022919</td>\n",
       "      <td>-0.371769</td>\n",
       "      <td>0.285049</td>\n",
       "      <td>0.290901</td>\n",
       "      <td>1</td>\n",
       "    </tr>\n",
       "    <tr>\n",
       "      <th>3</th>\n",
       "      <td>-0.067219</td>\n",
       "      <td>0.109504</td>\n",
       "      <td>0.416773</td>\n",
       "      <td>-0.054944</td>\n",
       "      <td>-0.284389</td>\n",
       "      <td>-0.472998</td>\n",
       "      <td>0.686559</td>\n",
       "      <td>0.415688</td>\n",
       "      <td>-0.048843</td>\n",
       "      <td>-0.566122</td>\n",
       "      <td>...</td>\n",
       "      <td>-0.572643</td>\n",
       "      <td>0.018856</td>\n",
       "      <td>0.155303</td>\n",
       "      <td>0.121384</td>\n",
       "      <td>-0.046421</td>\n",
       "      <td>-0.256745</td>\n",
       "      <td>-0.499154</td>\n",
       "      <td>0.124038</td>\n",
       "      <td>0.372541</td>\n",
       "      <td>1</td>\n",
       "    </tr>\n",
       "    <tr>\n",
       "      <th>4</th>\n",
       "      <td>-0.211058</td>\n",
       "      <td>-0.053752</td>\n",
       "      <td>0.074414</td>\n",
       "      <td>-0.054332</td>\n",
       "      <td>-0.504898</td>\n",
       "      <td>-0.229658</td>\n",
       "      <td>0.856674</td>\n",
       "      <td>0.060808</td>\n",
       "      <td>0.079140</td>\n",
       "      <td>-0.290740</td>\n",
       "      <td>...</td>\n",
       "      <td>-0.370781</td>\n",
       "      <td>0.216211</td>\n",
       "      <td>0.167832</td>\n",
       "      <td>0.431237</td>\n",
       "      <td>0.374305</td>\n",
       "      <td>-0.089354</td>\n",
       "      <td>-0.423236</td>\n",
       "      <td>-0.111802</td>\n",
       "      <td>0.218364</td>\n",
       "      <td>1</td>\n",
       "    </tr>\n",
       "    <tr>\n",
       "      <th>...</th>\n",
       "      <td>...</td>\n",
       "      <td>...</td>\n",
       "      <td>...</td>\n",
       "      <td>...</td>\n",
       "      <td>...</td>\n",
       "      <td>...</td>\n",
       "      <td>...</td>\n",
       "      <td>...</td>\n",
       "      <td>...</td>\n",
       "      <td>...</td>\n",
       "      <td>...</td>\n",
       "      <td>...</td>\n",
       "      <td>...</td>\n",
       "      <td>...</td>\n",
       "      <td>...</td>\n",
       "      <td>...</td>\n",
       "      <td>...</td>\n",
       "      <td>...</td>\n",
       "      <td>...</td>\n",
       "      <td>...</td>\n",
       "      <td>...</td>\n",
       "    </tr>\n",
       "    <tr>\n",
       "      <th>4848</th>\n",
       "      <td>-0.017156</td>\n",
       "      <td>-0.092110</td>\n",
       "      <td>0.323038</td>\n",
       "      <td>-0.096354</td>\n",
       "      <td>-0.484290</td>\n",
       "      <td>-0.666640</td>\n",
       "      <td>0.326059</td>\n",
       "      <td>0.313623</td>\n",
       "      <td>-0.043607</td>\n",
       "      <td>-0.253443</td>\n",
       "      <td>...</td>\n",
       "      <td>-0.627117</td>\n",
       "      <td>-0.162621</td>\n",
       "      <td>-0.022425</td>\n",
       "      <td>0.287080</td>\n",
       "      <td>0.007268</td>\n",
       "      <td>-0.129788</td>\n",
       "      <td>-0.446437</td>\n",
       "      <td>0.126375</td>\n",
       "      <td>0.062330</td>\n",
       "      <td>3</td>\n",
       "    </tr>\n",
       "    <tr>\n",
       "      <th>4849</th>\n",
       "      <td>-0.393395</td>\n",
       "      <td>-0.073586</td>\n",
       "      <td>0.274540</td>\n",
       "      <td>-0.098054</td>\n",
       "      <td>-0.495821</td>\n",
       "      <td>-0.366037</td>\n",
       "      <td>0.547323</td>\n",
       "      <td>0.373071</td>\n",
       "      <td>-0.066586</td>\n",
       "      <td>-0.259545</td>\n",
       "      <td>...</td>\n",
       "      <td>-0.359766</td>\n",
       "      <td>0.092946</td>\n",
       "      <td>0.148322</td>\n",
       "      <td>0.164678</td>\n",
       "      <td>-0.133745</td>\n",
       "      <td>-0.414167</td>\n",
       "      <td>-0.086305</td>\n",
       "      <td>0.270538</td>\n",
       "      <td>0.264400</td>\n",
       "      <td>3</td>\n",
       "    </tr>\n",
       "    <tr>\n",
       "      <th>4850</th>\n",
       "      <td>-0.155769</td>\n",
       "      <td>0.086734</td>\n",
       "      <td>-0.140774</td>\n",
       "      <td>0.098341</td>\n",
       "      <td>0.049205</td>\n",
       "      <td>-0.138896</td>\n",
       "      <td>0.676732</td>\n",
       "      <td>0.484585</td>\n",
       "      <td>-0.141806</td>\n",
       "      <td>-0.046623</td>\n",
       "      <td>...</td>\n",
       "      <td>-0.174627</td>\n",
       "      <td>0.146120</td>\n",
       "      <td>0.162269</td>\n",
       "      <td>0.134917</td>\n",
       "      <td>-0.194295</td>\n",
       "      <td>-0.351236</td>\n",
       "      <td>-0.616455</td>\n",
       "      <td>0.124785</td>\n",
       "      <td>0.333632</td>\n",
       "      <td>3</td>\n",
       "    </tr>\n",
       "    <tr>\n",
       "      <th>4851</th>\n",
       "      <td>0.001032</td>\n",
       "      <td>-0.082773</td>\n",
       "      <td>0.031640</td>\n",
       "      <td>-0.166441</td>\n",
       "      <td>-0.538797</td>\n",
       "      <td>-0.635697</td>\n",
       "      <td>0.541054</td>\n",
       "      <td>0.595761</td>\n",
       "      <td>0.551352</td>\n",
       "      <td>-0.353998</td>\n",
       "      <td>...</td>\n",
       "      <td>-0.329005</td>\n",
       "      <td>0.176894</td>\n",
       "      <td>0.011874</td>\n",
       "      <td>-0.166631</td>\n",
       "      <td>-0.104020</td>\n",
       "      <td>-0.226718</td>\n",
       "      <td>-0.502847</td>\n",
       "      <td>0.115461</td>\n",
       "      <td>0.189363</td>\n",
       "      <td>3</td>\n",
       "    </tr>\n",
       "    <tr>\n",
       "      <th>4852</th>\n",
       "      <td>-0.126318</td>\n",
       "      <td>-0.011328</td>\n",
       "      <td>-0.105918</td>\n",
       "      <td>0.035755</td>\n",
       "      <td>-0.035869</td>\n",
       "      <td>-0.257426</td>\n",
       "      <td>-0.037755</td>\n",
       "      <td>0.409005</td>\n",
       "      <td>-0.014599</td>\n",
       "      <td>-0.084542</td>\n",
       "      <td>...</td>\n",
       "      <td>-0.057125</td>\n",
       "      <td>0.130532</td>\n",
       "      <td>0.091431</td>\n",
       "      <td>-0.081716</td>\n",
       "      <td>-0.147834</td>\n",
       "      <td>-0.111337</td>\n",
       "      <td>-0.121048</td>\n",
       "      <td>0.197733</td>\n",
       "      <td>0.263318</td>\n",
       "      <td>3</td>\n",
       "    </tr>\n",
       "  </tbody>\n",
       "</table>\n",
       "<p>14559 rows × 769 columns</p>\n",
       "</div>"
      ],
      "text/plain": [
       "             0         1         2         3         4         5         6  \\\n",
       "0    -0.435603 -0.215717  0.196117 -0.344362 -0.173273 -0.542964  0.890772   \n",
       "1    -0.220295  0.036750 -0.130482 -0.041268 -0.478102 -0.228912  0.020297   \n",
       "2    -0.193476 -0.152704 -0.125101 -0.022208 -0.361940 -0.647612  0.504564   \n",
       "3    -0.067219  0.109504  0.416773 -0.054944 -0.284389 -0.472998  0.686559   \n",
       "4    -0.211058 -0.053752  0.074414 -0.054332 -0.504898 -0.229658  0.856674   \n",
       "...        ...       ...       ...       ...       ...       ...       ...   \n",
       "4848 -0.017156 -0.092110  0.323038 -0.096354 -0.484290 -0.666640  0.326059   \n",
       "4849 -0.393395 -0.073586  0.274540 -0.098054 -0.495821 -0.366037  0.547323   \n",
       "4850 -0.155769  0.086734 -0.140774  0.098341  0.049205 -0.138896  0.676732   \n",
       "4851  0.001032 -0.082773  0.031640 -0.166441 -0.538797 -0.635697  0.541054   \n",
       "4852 -0.126318 -0.011328 -0.105918  0.035755 -0.035869 -0.257426 -0.037755   \n",
       "\n",
       "             7         8         9  ...       759       760       761  \\\n",
       "0     0.144833 -0.097710 -0.427126  ... -0.642096  0.102244 -0.004700   \n",
       "1     0.262901  0.053796  0.010153  ... -0.486429  0.115941  0.104470   \n",
       "2     0.626000 -0.280302 -0.184918  ... -0.278554  0.023960  0.064582   \n",
       "3     0.415688 -0.048843 -0.566122  ... -0.572643  0.018856  0.155303   \n",
       "4     0.060808  0.079140 -0.290740  ... -0.370781  0.216211  0.167832   \n",
       "...        ...       ...       ...  ...       ...       ...       ...   \n",
       "4848  0.313623 -0.043607 -0.253443  ... -0.627117 -0.162621 -0.022425   \n",
       "4849  0.373071 -0.066586 -0.259545  ... -0.359766  0.092946  0.148322   \n",
       "4850  0.484585 -0.141806 -0.046623  ... -0.174627  0.146120  0.162269   \n",
       "4851  0.595761  0.551352 -0.353998  ... -0.329005  0.176894  0.011874   \n",
       "4852  0.409005 -0.014599 -0.084542  ... -0.057125  0.130532  0.091431   \n",
       "\n",
       "           762       763       764       765       766       767  LABEL  \n",
       "0    -0.018114  0.053020 -0.396759 -0.899932  0.210677  0.117965      1  \n",
       "1     0.168067  0.014726 -0.348303 -0.360647  0.262516  0.288666      1  \n",
       "2     0.154506 -0.225121 -0.022919 -0.371769  0.285049  0.290901      1  \n",
       "3     0.121384 -0.046421 -0.256745 -0.499154  0.124038  0.372541      1  \n",
       "4     0.431237  0.374305 -0.089354 -0.423236 -0.111802  0.218364      1  \n",
       "...        ...       ...       ...       ...       ...       ...    ...  \n",
       "4848  0.287080  0.007268 -0.129788 -0.446437  0.126375  0.062330      3  \n",
       "4849  0.164678 -0.133745 -0.414167 -0.086305  0.270538  0.264400      3  \n",
       "4850  0.134917 -0.194295 -0.351236 -0.616455  0.124785  0.333632      3  \n",
       "4851 -0.166631 -0.104020 -0.226718 -0.502847  0.115461  0.189363      3  \n",
       "4852 -0.081716 -0.147834 -0.111337 -0.121048  0.197733  0.263318      3  \n",
       "\n",
       "[14559 rows x 769 columns]"
      ]
     },
     "execution_count": 3,
     "metadata": {},
     "output_type": "execute_result"
    }
   ],
   "source": [
    "in1 = 'BERT-CLS-EMBEDDING-1PO.csv'\n",
    "in2 = 'BERT-CLS-EMBEDDING-2NE.csv'\n",
    "in3 = 'BERT-CLS-EMBEDDING-3NU.csv'\n",
    "\n",
    "df1 = pd.read_csv(in1)\n",
    "df2 = pd.read_csv(in2)\n",
    "df3 = pd.read_csv(in3)\n",
    "\n",
    "vertical_stack = pd.concat([df1, df2, df3], axis=0)\n",
    "vertical_stack"
   ]
  },
  {
   "cell_type": "code",
   "execution_count": 59,
   "id": "de8a1f95",
   "metadata": {},
   "outputs": [],
   "source": [
    "vertical_stack.to_csv(\"BERT-DATASET.csv\",index=False)"
   ]
  },
  {
   "cell_type": "code",
   "execution_count": 60,
   "id": "14f0829d",
   "metadata": {},
   "outputs": [
    {
     "data": {
      "text/plain": [
       "(14559, 769)"
      ]
     },
     "execution_count": 60,
     "metadata": {},
     "output_type": "execute_result"
    }
   ],
   "source": [
    "vertical_stack.shape"
   ]
  },
  {
   "cell_type": "code",
   "execution_count": 72,
   "id": "4acdbdd0",
   "metadata": {},
   "outputs": [
    {
     "data": {
      "text/plain": [
       "(14558, 769)"
      ]
     },
     "execution_count": 72,
     "metadata": {},
     "output_type": "execute_result"
    }
   ],
   "source": [
    "cleanData = vertical_stack.iloc[1: , :]\n",
    "cleanData.shape"
   ]
  },
  {
   "cell_type": "code",
   "execution_count": 62,
   "id": "4ec40e92",
   "metadata": {},
   "outputs": [
    {
     "data": {
      "text/plain": [
       "(14558, 768)"
      ]
     },
     "execution_count": 62,
     "metadata": {},
     "output_type": "execute_result"
    }
   ],
   "source": [
    "df = cleanData\n",
    "X = df.iloc[: , :-1]\n",
    "X.shape"
   ]
  },
  {
   "cell_type": "code",
   "execution_count": 63,
   "id": "bad2a7fd",
   "metadata": {},
   "outputs": [],
   "source": [
    "XX = X.to_numpy()"
   ]
  },
  {
   "cell_type": "code",
   "execution_count": 82,
   "id": "63226255",
   "metadata": {},
   "outputs": [
    {
     "data": {
      "text/plain": [
       "(14558,)"
      ]
     },
     "execution_count": 82,
     "metadata": {},
     "output_type": "execute_result"
    }
   ],
   "source": [
    "y = cleanData['LABEL']\n",
    "y.shape"
   ]
  },
  {
   "cell_type": "code",
   "execution_count": 83,
   "id": "a8d9405b",
   "metadata": {},
   "outputs": [],
   "source": [
    "yy = y.to_numpy()"
   ]
  },
  {
   "cell_type": "code",
   "execution_count": 84,
   "id": "a2d5e65f",
   "metadata": {},
   "outputs": [
    {
     "data": {
      "text/plain": [
       "(14558, 768)"
      ]
     },
     "execution_count": 84,
     "metadata": {},
     "output_type": "execute_result"
    }
   ],
   "source": [
    "XX.shape"
   ]
  },
  {
   "cell_type": "code",
   "execution_count": 85,
   "id": "513b2002",
   "metadata": {},
   "outputs": [
    {
     "data": {
      "text/plain": [
       "array([1, 1, 1, ..., 3, 3, 3], dtype=int64)"
      ]
     },
     "execution_count": 85,
     "metadata": {},
     "output_type": "execute_result"
    }
   ],
   "source": [
    "yy"
   ]
  },
  {
   "cell_type": "code",
   "execution_count": 86,
   "id": "a9e98d8a",
   "metadata": {},
   "outputs": [],
   "source": [
    "np.save('X.npy', XX)\n",
    "np.save('y.npy', yy)\n",
    "\n"
   ]
  },
  {
   "cell_type": "code",
   "execution_count": null,
   "id": "1758b19a",
   "metadata": {},
   "outputs": [],
   "source": [
    "# Import the model we are using\n",
    "from sklearn.ensemble import RandomForestRegressor# Instantiate model with 1000 decision trees\n",
    "rf = RandomForestRegressor(n_estimators = 100, random_state = 42)# Train the model on training data\n",
    "rf.fit(XX, yy);"
   ]
  },
  {
   "cell_type": "code",
   "execution_count": null,
   "id": "7a89c9ba",
   "metadata": {},
   "outputs": [],
   "source": [
    "rf"
   ]
  },
  {
   "cell_type": "code",
   "execution_count": null,
   "id": "af73c297",
   "metadata": {},
   "outputs": [],
   "source": []
  }
 ],
 "metadata": {
  "kernelspec": {
   "display_name": "Python 3",
   "language": "python",
   "name": "python3"
  },
  "language_info": {
   "codemirror_mode": {
    "name": "ipython",
    "version": 3
   },
   "file_extension": ".py",
   "mimetype": "text/x-python",
   "name": "python",
   "nbconvert_exporter": "python",
   "pygments_lexer": "ipython3",
   "version": "3.8.8"
  }
 },
 "nbformat": 4,
 "nbformat_minor": 5
}
