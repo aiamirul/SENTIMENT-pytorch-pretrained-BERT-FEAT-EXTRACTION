{
 "cells": [
  {
   "cell_type": "markdown",
   "id": "2a6f2f06",
   "metadata": {},
   "source": [
    "# Load 1 by 1 JSON output and make a CSV for 1 class (repeat each class)"
   ]
  },
  {
   "cell_type": "code",
   "execution_count": 1,
   "id": "9dd90d42",
   "metadata": {},
   "outputs": [],
   "source": [
    "import pandas as pd\n",
    "import numpy as np"
   ]
  },
  {
   "cell_type": "code",
   "execution_count": null,
   "id": "10bf6bd2",
   "metadata": {},
   "outputs": [],
   "source": [
    "\n",
    "rootDirectory = \"C:/Users/USER/Documents/GitHub/pytorch-pretrained-BERT/\"\n",
    "rootDirectory = ''\n",
    "inputPath = rootDirectory + \"NE.json\"\n",
    "classLabel = '2'\n",
    "outputCSV = 'BERT-CLS-EMBEDDING_LAST-'+classLabel+'.csv'\n",
    "\n",
    "#Read Json\n",
    "df = pd.read_json (inputPath, lines=True)\n",
    "X = np.arange(start=1, stop=769, step=1) # Dummy Data\n",
    "\n",
    "for i in df.features:\n",
    "    #Read Json in Json\n",
    "    Indf = pd.DataFrame.from_dict(i[0])\n",
    "    print(Indf.shape)\n",
    "    #Read Json in Json\n",
    "    Layersdf = pd.DataFrame.from_dict(Indf.layers[3])\n",
    "    \n",
    "    data = Layersdf.to_numpy()\n",
    "    print(\"Take 1 Vector (First): \", data.shape)\n",
    "    print(\"Take Values: \",data[:,1].shape)\n",
    "    \n",
    "    cleanData = data[:,1]\n",
    "    \n",
    "    #Append data to stack with label\n",
    "    X = np.vstack((X,cleanData))\n",
    "    print(\"Stack : \", X.shape)\n",
    "   \n",
    "dataset = pd.DataFrame(X)\n",
    "##DROP THE FIRST ROW \n",
    "dataset = dataset.iloc[1: , :]\n",
    "\n",
    "dataset['LABEL'] = classLabel # POSITIVE = 1 / NEGATIVE = 2 / NEUTRAL 3   \n",
    "dataset.to_csv(outputCSV,index=False)"
   ]
  },
  {
   "cell_type": "code",
   "execution_count": null,
   "id": "64732120",
   "metadata": {},
   "outputs": [],
   "source": [
    "\n",
    "rootDirectory = \"C:/Users/USER/Documents/GitHub/pytorch-pretrained-BERT/\"\n",
    "rootDirectory = ''\n",
    "inputPath = rootDirectory + \"PO.json\"\n",
    "classLabel = '1'\n",
    "outputCSV = 'BERT-CLS-EMBEDDING_LAST-'+classLabel+'.csv'\n",
    "\n",
    "#Read Json\n",
    "df = pd.read_json (inputPath, lines=True)\n",
    "X = np.arange(start=1, stop=769, step=1) # Dummy Data\n",
    "\n",
    "for i in df.features:\n",
    "    #Read Json in Json\n",
    "    Indf = pd.DataFrame.from_dict(i[0])\n",
    "    print(Indf.shape)\n",
    "    #Read Json in Json\n",
    "    Layersdf = pd.DataFrame.from_dict(Indf.layers[3])\n",
    "    \n",
    "    data = Layersdf.to_numpy()\n",
    "    print(\"Take 1 Vector (First): \", data.shape)\n",
    "    print(\"Take Values: \",data[:,1].shape)\n",
    "    \n",
    "    cleanData = data[:,1]\n",
    "    \n",
    "    #Append data to stack with label\n",
    "    X = np.vstack((X,cleanData))\n",
    "    print(\"Stack : \", X.shape)\n",
    "   \n",
    "dataset = pd.DataFrame(X)\n",
    "##DROP THE FIRST ROW \n",
    "dataset = dataset.iloc[1: , :]\n",
    "\n",
    "dataset['LABEL'] = classLabel # POSITIVE = 1 / NEGATIVE = 2 / NEUTRAL 3   \n",
    "dataset.to_csv(outputCSV,index=False)"
   ]
  },
  {
   "cell_type": "code",
   "execution_count": null,
   "id": "16cf705a",
   "metadata": {},
   "outputs": [],
   "source": [
    "\n",
    "rootDirectory = \"C:/Users/USER/Documents/GitHub/pytorch-pretrained-BERT/\"\n",
    "rootDirectory = ''\n",
    "inputPath = rootDirectory + \"NU.json\"\n",
    "classLabel = '3'\n",
    "outputCSV = 'BERT-CLS-EMBEDDING_LAST-'+classLabel+'.csv'\n",
    "\n",
    "#Read Json\n",
    "df = pd.read_json (inputPath, lines=True)\n",
    "X = np.arange(start=1, stop=769, step=1) # Dummy Data\n",
    "\n",
    "for i in df.features:\n",
    "    #Read Json in Json\n",
    "    Indf = pd.DataFrame.from_dict(i[0])\n",
    "    print(Indf.shape)\n",
    "    #Read Json in Json\n",
    "    Layersdf = pd.DataFrame.from_dict(Indf.layers[3])\n",
    "    \n",
    "    data = Layersdf.to_numpy()\n",
    "    print(\"Take 1 Vector (First): \", data.shape)\n",
    "    print(\"Take Values: \",data[:,1].shape)\n",
    "    \n",
    "    cleanData = data[:,1]\n",
    "    \n",
    "    #Append data to stack with label\n",
    "    X = np.vstack((X,cleanData))\n",
    "    print(\"Stack : \", X.shape)\n",
    "   \n",
    "dataset = pd.DataFrame(X)\n",
    "##DROP THE FIRST ROW \n",
    "dataset = dataset.iloc[1: , :]\n",
    "\n",
    "dataset['LABEL'] = classLabel # POSITIVE = 1 / NEGATIVE = 2 / NEUTRAL 3   \n",
    "dataset.to_csv(outputCSV,index=False)"
   ]
  },
  {
   "cell_type": "markdown",
   "id": "6f08dec0",
   "metadata": {},
   "source": [
    "# Load all CSV and vertically stack them"
   ]
  },
  {
   "cell_type": "code",
   "execution_count": 2,
   "id": "df4559bb",
   "metadata": {},
   "outputs": [
    {
     "ename": "FileNotFoundError",
     "evalue": "[Errno 2] No such file or directory: 'BERT-CLS-EMBEDDING-LAST-1.csv'",
     "output_type": "error",
     "traceback": [
      "\u001b[1;31m---------------------------------------------------------------------------\u001b[0m",
      "\u001b[1;31mFileNotFoundError\u001b[0m                         Traceback (most recent call last)",
      "\u001b[1;32m<ipython-input-2-d1b6be4ffdcb>\u001b[0m in \u001b[0;36m<module>\u001b[1;34m\u001b[0m\n\u001b[0;32m      3\u001b[0m \u001b[0min3\u001b[0m \u001b[1;33m=\u001b[0m \u001b[1;34m'BERT-CLS-EMBEDDING-LAST-3.csv'\u001b[0m\u001b[1;33m\u001b[0m\u001b[1;33m\u001b[0m\u001b[0m\n\u001b[0;32m      4\u001b[0m \u001b[1;33m\u001b[0m\u001b[0m\n\u001b[1;32m----> 5\u001b[1;33m \u001b[0mdf1\u001b[0m \u001b[1;33m=\u001b[0m \u001b[0mpd\u001b[0m\u001b[1;33m.\u001b[0m\u001b[0mread_csv\u001b[0m\u001b[1;33m(\u001b[0m\u001b[0min1\u001b[0m\u001b[1;33m)\u001b[0m\u001b[1;33m\u001b[0m\u001b[1;33m\u001b[0m\u001b[0m\n\u001b[0m\u001b[0;32m      6\u001b[0m \u001b[0mdf2\u001b[0m \u001b[1;33m=\u001b[0m \u001b[0mpd\u001b[0m\u001b[1;33m.\u001b[0m\u001b[0mread_csv\u001b[0m\u001b[1;33m(\u001b[0m\u001b[0min2\u001b[0m\u001b[1;33m)\u001b[0m\u001b[1;33m\u001b[0m\u001b[1;33m\u001b[0m\u001b[0m\n\u001b[0;32m      7\u001b[0m \u001b[0mdf3\u001b[0m \u001b[1;33m=\u001b[0m \u001b[0mpd\u001b[0m\u001b[1;33m.\u001b[0m\u001b[0mread_csv\u001b[0m\u001b[1;33m(\u001b[0m\u001b[0min3\u001b[0m\u001b[1;33m)\u001b[0m\u001b[1;33m\u001b[0m\u001b[1;33m\u001b[0m\u001b[0m\n",
      "\u001b[1;32m~\\anaconda3\\lib\\site-packages\\pandas\\io\\parsers.py\u001b[0m in \u001b[0;36mread_csv\u001b[1;34m(filepath_or_buffer, sep, delimiter, header, names, index_col, usecols, squeeze, prefix, mangle_dupe_cols, dtype, engine, converters, true_values, false_values, skipinitialspace, skiprows, skipfooter, nrows, na_values, keep_default_na, na_filter, verbose, skip_blank_lines, parse_dates, infer_datetime_format, keep_date_col, date_parser, dayfirst, cache_dates, iterator, chunksize, compression, thousands, decimal, lineterminator, quotechar, quoting, doublequote, escapechar, comment, encoding, dialect, error_bad_lines, warn_bad_lines, delim_whitespace, low_memory, memory_map, float_precision, storage_options)\u001b[0m\n\u001b[0;32m    608\u001b[0m     \u001b[0mkwds\u001b[0m\u001b[1;33m.\u001b[0m\u001b[0mupdate\u001b[0m\u001b[1;33m(\u001b[0m\u001b[0mkwds_defaults\u001b[0m\u001b[1;33m)\u001b[0m\u001b[1;33m\u001b[0m\u001b[1;33m\u001b[0m\u001b[0m\n\u001b[0;32m    609\u001b[0m \u001b[1;33m\u001b[0m\u001b[0m\n\u001b[1;32m--> 610\u001b[1;33m     \u001b[1;32mreturn\u001b[0m \u001b[0m_read\u001b[0m\u001b[1;33m(\u001b[0m\u001b[0mfilepath_or_buffer\u001b[0m\u001b[1;33m,\u001b[0m \u001b[0mkwds\u001b[0m\u001b[1;33m)\u001b[0m\u001b[1;33m\u001b[0m\u001b[1;33m\u001b[0m\u001b[0m\n\u001b[0m\u001b[0;32m    611\u001b[0m \u001b[1;33m\u001b[0m\u001b[0m\n\u001b[0;32m    612\u001b[0m \u001b[1;33m\u001b[0m\u001b[0m\n",
      "\u001b[1;32m~\\anaconda3\\lib\\site-packages\\pandas\\io\\parsers.py\u001b[0m in \u001b[0;36m_read\u001b[1;34m(filepath_or_buffer, kwds)\u001b[0m\n\u001b[0;32m    460\u001b[0m \u001b[1;33m\u001b[0m\u001b[0m\n\u001b[0;32m    461\u001b[0m     \u001b[1;31m# Create the parser.\u001b[0m\u001b[1;33m\u001b[0m\u001b[1;33m\u001b[0m\u001b[1;33m\u001b[0m\u001b[0m\n\u001b[1;32m--> 462\u001b[1;33m     \u001b[0mparser\u001b[0m \u001b[1;33m=\u001b[0m \u001b[0mTextFileReader\u001b[0m\u001b[1;33m(\u001b[0m\u001b[0mfilepath_or_buffer\u001b[0m\u001b[1;33m,\u001b[0m \u001b[1;33m**\u001b[0m\u001b[0mkwds\u001b[0m\u001b[1;33m)\u001b[0m\u001b[1;33m\u001b[0m\u001b[1;33m\u001b[0m\u001b[0m\n\u001b[0m\u001b[0;32m    463\u001b[0m \u001b[1;33m\u001b[0m\u001b[0m\n\u001b[0;32m    464\u001b[0m     \u001b[1;32mif\u001b[0m \u001b[0mchunksize\u001b[0m \u001b[1;32mor\u001b[0m \u001b[0miterator\u001b[0m\u001b[1;33m:\u001b[0m\u001b[1;33m\u001b[0m\u001b[1;33m\u001b[0m\u001b[0m\n",
      "\u001b[1;32m~\\anaconda3\\lib\\site-packages\\pandas\\io\\parsers.py\u001b[0m in \u001b[0;36m__init__\u001b[1;34m(self, f, engine, **kwds)\u001b[0m\n\u001b[0;32m    817\u001b[0m             \u001b[0mself\u001b[0m\u001b[1;33m.\u001b[0m\u001b[0moptions\u001b[0m\u001b[1;33m[\u001b[0m\u001b[1;34m\"has_index_names\"\u001b[0m\u001b[1;33m]\u001b[0m \u001b[1;33m=\u001b[0m \u001b[0mkwds\u001b[0m\u001b[1;33m[\u001b[0m\u001b[1;34m\"has_index_names\"\u001b[0m\u001b[1;33m]\u001b[0m\u001b[1;33m\u001b[0m\u001b[1;33m\u001b[0m\u001b[0m\n\u001b[0;32m    818\u001b[0m \u001b[1;33m\u001b[0m\u001b[0m\n\u001b[1;32m--> 819\u001b[1;33m         \u001b[0mself\u001b[0m\u001b[1;33m.\u001b[0m\u001b[0m_engine\u001b[0m \u001b[1;33m=\u001b[0m \u001b[0mself\u001b[0m\u001b[1;33m.\u001b[0m\u001b[0m_make_engine\u001b[0m\u001b[1;33m(\u001b[0m\u001b[0mself\u001b[0m\u001b[1;33m.\u001b[0m\u001b[0mengine\u001b[0m\u001b[1;33m)\u001b[0m\u001b[1;33m\u001b[0m\u001b[1;33m\u001b[0m\u001b[0m\n\u001b[0m\u001b[0;32m    820\u001b[0m \u001b[1;33m\u001b[0m\u001b[0m\n\u001b[0;32m    821\u001b[0m     \u001b[1;32mdef\u001b[0m \u001b[0mclose\u001b[0m\u001b[1;33m(\u001b[0m\u001b[0mself\u001b[0m\u001b[1;33m)\u001b[0m\u001b[1;33m:\u001b[0m\u001b[1;33m\u001b[0m\u001b[1;33m\u001b[0m\u001b[0m\n",
      "\u001b[1;32m~\\anaconda3\\lib\\site-packages\\pandas\\io\\parsers.py\u001b[0m in \u001b[0;36m_make_engine\u001b[1;34m(self, engine)\u001b[0m\n\u001b[0;32m   1048\u001b[0m             )\n\u001b[0;32m   1049\u001b[0m         \u001b[1;31m# error: Too many arguments for \"ParserBase\"\u001b[0m\u001b[1;33m\u001b[0m\u001b[1;33m\u001b[0m\u001b[1;33m\u001b[0m\u001b[0m\n\u001b[1;32m-> 1050\u001b[1;33m         \u001b[1;32mreturn\u001b[0m \u001b[0mmapping\u001b[0m\u001b[1;33m[\u001b[0m\u001b[0mengine\u001b[0m\u001b[1;33m]\u001b[0m\u001b[1;33m(\u001b[0m\u001b[0mself\u001b[0m\u001b[1;33m.\u001b[0m\u001b[0mf\u001b[0m\u001b[1;33m,\u001b[0m \u001b[1;33m**\u001b[0m\u001b[0mself\u001b[0m\u001b[1;33m.\u001b[0m\u001b[0moptions\u001b[0m\u001b[1;33m)\u001b[0m  \u001b[1;31m# type: ignore[call-arg]\u001b[0m\u001b[1;33m\u001b[0m\u001b[1;33m\u001b[0m\u001b[0m\n\u001b[0m\u001b[0;32m   1051\u001b[0m \u001b[1;33m\u001b[0m\u001b[0m\n\u001b[0;32m   1052\u001b[0m     \u001b[1;32mdef\u001b[0m \u001b[0m_failover_to_python\u001b[0m\u001b[1;33m(\u001b[0m\u001b[0mself\u001b[0m\u001b[1;33m)\u001b[0m\u001b[1;33m:\u001b[0m\u001b[1;33m\u001b[0m\u001b[1;33m\u001b[0m\u001b[0m\n",
      "\u001b[1;32m~\\anaconda3\\lib\\site-packages\\pandas\\io\\parsers.py\u001b[0m in \u001b[0;36m__init__\u001b[1;34m(self, src, **kwds)\u001b[0m\n\u001b[0;32m   1865\u001b[0m \u001b[1;33m\u001b[0m\u001b[0m\n\u001b[0;32m   1866\u001b[0m         \u001b[1;31m# open handles\u001b[0m\u001b[1;33m\u001b[0m\u001b[1;33m\u001b[0m\u001b[1;33m\u001b[0m\u001b[0m\n\u001b[1;32m-> 1867\u001b[1;33m         \u001b[0mself\u001b[0m\u001b[1;33m.\u001b[0m\u001b[0m_open_handles\u001b[0m\u001b[1;33m(\u001b[0m\u001b[0msrc\u001b[0m\u001b[1;33m,\u001b[0m \u001b[0mkwds\u001b[0m\u001b[1;33m)\u001b[0m\u001b[1;33m\u001b[0m\u001b[1;33m\u001b[0m\u001b[0m\n\u001b[0m\u001b[0;32m   1868\u001b[0m         \u001b[1;32massert\u001b[0m \u001b[0mself\u001b[0m\u001b[1;33m.\u001b[0m\u001b[0mhandles\u001b[0m \u001b[1;32mis\u001b[0m \u001b[1;32mnot\u001b[0m \u001b[1;32mNone\u001b[0m\u001b[1;33m\u001b[0m\u001b[1;33m\u001b[0m\u001b[0m\n\u001b[0;32m   1869\u001b[0m         \u001b[1;32mfor\u001b[0m \u001b[0mkey\u001b[0m \u001b[1;32min\u001b[0m \u001b[1;33m(\u001b[0m\u001b[1;34m\"storage_options\"\u001b[0m\u001b[1;33m,\u001b[0m \u001b[1;34m\"encoding\"\u001b[0m\u001b[1;33m,\u001b[0m \u001b[1;34m\"memory_map\"\u001b[0m\u001b[1;33m,\u001b[0m \u001b[1;34m\"compression\"\u001b[0m\u001b[1;33m)\u001b[0m\u001b[1;33m:\u001b[0m\u001b[1;33m\u001b[0m\u001b[1;33m\u001b[0m\u001b[0m\n",
      "\u001b[1;32m~\\anaconda3\\lib\\site-packages\\pandas\\io\\parsers.py\u001b[0m in \u001b[0;36m_open_handles\u001b[1;34m(self, src, kwds)\u001b[0m\n\u001b[0;32m   1360\u001b[0m         \u001b[0mLet\u001b[0m \u001b[0mthe\u001b[0m \u001b[0mreaders\u001b[0m \u001b[0mopen\u001b[0m \u001b[0mIOHanldes\u001b[0m \u001b[0mafter\u001b[0m \u001b[0mthey\u001b[0m \u001b[0mare\u001b[0m \u001b[0mdone\u001b[0m \u001b[1;32mwith\u001b[0m \u001b[0mtheir\u001b[0m \u001b[0mpotential\u001b[0m \u001b[0mraises\u001b[0m\u001b[1;33m.\u001b[0m\u001b[1;33m\u001b[0m\u001b[1;33m\u001b[0m\u001b[0m\n\u001b[0;32m   1361\u001b[0m         \"\"\"\n\u001b[1;32m-> 1362\u001b[1;33m         self.handles = get_handle(\n\u001b[0m\u001b[0;32m   1363\u001b[0m             \u001b[0msrc\u001b[0m\u001b[1;33m,\u001b[0m\u001b[1;33m\u001b[0m\u001b[1;33m\u001b[0m\u001b[0m\n\u001b[0;32m   1364\u001b[0m             \u001b[1;34m\"r\"\u001b[0m\u001b[1;33m,\u001b[0m\u001b[1;33m\u001b[0m\u001b[1;33m\u001b[0m\u001b[0m\n",
      "\u001b[1;32m~\\anaconda3\\lib\\site-packages\\pandas\\io\\common.py\u001b[0m in \u001b[0;36mget_handle\u001b[1;34m(path_or_buf, mode, encoding, compression, memory_map, is_text, errors, storage_options)\u001b[0m\n\u001b[0;32m    640\u001b[0m                 \u001b[0merrors\u001b[0m \u001b[1;33m=\u001b[0m \u001b[1;34m\"replace\"\u001b[0m\u001b[1;33m\u001b[0m\u001b[1;33m\u001b[0m\u001b[0m\n\u001b[0;32m    641\u001b[0m             \u001b[1;31m# Encoding\u001b[0m\u001b[1;33m\u001b[0m\u001b[1;33m\u001b[0m\u001b[1;33m\u001b[0m\u001b[0m\n\u001b[1;32m--> 642\u001b[1;33m             handle = open(\n\u001b[0m\u001b[0;32m    643\u001b[0m                 \u001b[0mhandle\u001b[0m\u001b[1;33m,\u001b[0m\u001b[1;33m\u001b[0m\u001b[1;33m\u001b[0m\u001b[0m\n\u001b[0;32m    644\u001b[0m                 \u001b[0mioargs\u001b[0m\u001b[1;33m.\u001b[0m\u001b[0mmode\u001b[0m\u001b[1;33m,\u001b[0m\u001b[1;33m\u001b[0m\u001b[1;33m\u001b[0m\u001b[0m\n",
      "\u001b[1;31mFileNotFoundError\u001b[0m: [Errno 2] No such file or directory: 'BERT-CLS-EMBEDDING-LAST-1.csv'"
     ]
    }
   ],
   "source": [
    "in1 = 'BERT-CLS-EMBEDDING-LAST-1.csv'\n",
    "in2 = 'BERT-CLS-EMBEDDING-LAST-2.csv'\n",
    "in3 = 'BERT-CLS-EMBEDDING-LAST-3.csv'\n",
    "\n",
    "df1 = pd.read_csv(in1)\n",
    "df2 = pd.read_csv(in2)\n",
    "df3 = pd.read_csv(in3)\n",
    "\n",
    "vertical_stack = pd.concat([df1, df2, df3], axis=0)\n",
    "vertical_stack"
   ]
  },
  {
   "cell_type": "code",
   "execution_count": null,
   "id": "de8a1f95",
   "metadata": {},
   "outputs": [],
   "source": [
    "vertical_stack.to_csv(\"BERT-DATASET.csv\",index=False)"
   ]
  },
  {
   "cell_type": "code",
   "execution_count": null,
   "id": "b5a71bdc",
   "metadata": {},
   "outputs": [],
   "source": [
    "vertical_stack.shape"
   ]
  },
  {
   "cell_type": "code",
   "execution_count": null,
   "id": "5898a77b",
   "metadata": {},
   "outputs": [],
   "source": [
    "cleanData = vertical_stack.iloc[1: , :]\n",
    "cleanData.shape"
   ]
  },
  {
   "cell_type": "code",
   "execution_count": null,
   "id": "82ee82e3",
   "metadata": {},
   "outputs": [],
   "source": [
    "df = cleanData\n",
    "X = df.iloc[: , :-1]\n",
    "X.shape"
   ]
  },
  {
   "cell_type": "code",
   "execution_count": null,
   "id": "c5564663",
   "metadata": {},
   "outputs": [],
   "source": [
    "XX = X.to_numpy()"
   ]
  },
  {
   "cell_type": "code",
   "execution_count": null,
   "id": "d0149d11",
   "metadata": {},
   "outputs": [],
   "source": [
    "y = cleanData['LABEL']\n",
    "y.shape"
   ]
  },
  {
   "cell_type": "code",
   "execution_count": null,
   "id": "fb9b14df",
   "metadata": {},
   "outputs": [],
   "source": [
    "yy = y.to_numpy()"
   ]
  },
  {
   "cell_type": "code",
   "execution_count": null,
   "id": "fd5ce38e",
   "metadata": {},
   "outputs": [],
   "source": [
    "XX.shape"
   ]
  },
  {
   "cell_type": "code",
   "execution_count": null,
   "id": "641308e9",
   "metadata": {},
   "outputs": [],
   "source": [
    "yy"
   ]
  },
  {
   "cell_type": "code",
   "execution_count": null,
   "id": "c18133ce",
   "metadata": {},
   "outputs": [],
   "source": [
    "np.save('X.npy', XX)\n",
    "np.save('y.npy', yy)\n",
    "\n"
   ]
  },
  {
   "cell_type": "code",
   "execution_count": null,
   "id": "ac1dd567",
   "metadata": {},
   "outputs": [],
   "source": [
    "# Import the model we are using\n",
    "from sklearn.ensemble import RandomForestRegressor# Instantiate model with 1000 decision trees\n",
    "rf = RandomForestRegressor(n_estimators = 100, random_state = 42)# Train the model on training data\n",
    "rf.fit(XX, yy);"
   ]
  },
  {
   "cell_type": "code",
   "execution_count": null,
   "id": "0dfbaa23",
   "metadata": {},
   "outputs": [],
   "source": [
    "from sklearn.model_selection import train_test_split\n",
    "X_train, X_test, y_train, y_test = train_test_split(X, y, test_size=0.05, random_state=42, stratify=y)"
   ]
  },
  {
   "cell_type": "code",
   "execution_count": null,
   "id": "c4540d7a",
   "metadata": {},
   "outputs": [],
   "source": [
    "print(\"Train set\")\n",
    "print(list(y_train).count(1))\n",
    "print(list(y_train).count(2))\n",
    "print(list(y_train).count(3))\n",
    "print(\"Test set\")\n",
    "print(list(y_test).count(1))\n",
    "print(list(y_test).count(2))\n",
    "print(list(y_test).count(3))"
   ]
  },
  {
   "cell_type": "code",
   "execution_count": null,
   "id": "d4becb8c",
   "metadata": {},
   "outputs": [],
   "source": [
    "from sklearn import svm\n",
    "from sklearn import metrics\n",
    "\n",
    "#Create a svm Classifier\n",
    "clf = svm.SVC(kernel='rbf') # Linear Kernel\n",
    "#Train the model using the training sets\n",
    "clf.fit(X_train, y_train)\n",
    "#Predict the response for test dataset\n",
    "y_pred = clf.predict(X_test)\n",
    "\n",
    "# Model Accuracy: how often is the classifier correct?\n",
    "print(\"Accuracy:\",metrics.accuracy_score(y_test, y_pred))\n",
    "# Model Precision: what percentage of positive tuples are labeled as such?\n",
    "print(\"Precision:\",metrics.precision_score(y_test, y_pred,average='macro'))\n",
    "# Model Recall: what percentage of positive tuples are labelled as such?\n",
    "print(\"Recall:\",metrics.recall_score(y_test, y_pred,average='macro'))"
   ]
  },
  {
   "cell_type": "code",
   "execution_count": null,
   "id": "57e94e2a",
   "metadata": {},
   "outputs": [],
   "source": []
  },
  {
   "cell_type": "code",
   "execution_count": null,
   "id": "f4b70fac",
   "metadata": {},
   "outputs": [],
   "source": [
    "#Import Random Forest Model\n",
    "from sklearn.ensemble import RandomForestClassifier\n",
    "\n",
    "#Create a Gaussian Classifier\n",
    "clf=RandomForestClassifier(n_estimators=100)\n",
    "\n",
    "#Train the model using the training sets y_pred=clf.predict(X_test)\n",
    "clf.fit(X_train,y_train)\n",
    "\n",
    "y_pred=clf.predict(X_test)\n",
    "\n",
    "\n",
    "#Import scikit-learn metrics module for accuracy calculation\n",
    "from sklearn import metrics\n",
    "# Model Accuracy, how often is the classifier correct?\n",
    "print(\"Accuracy:\",metrics.accuracy_score(y_test, y_pred))\n",
    "\n"
   ]
  },
  {
   "cell_type": "code",
   "execution_count": null,
   "id": "b898fe8f",
   "metadata": {},
   "outputs": [],
   "source": []
  }
 ],
 "metadata": {
  "kernelspec": {
   "display_name": "Python 3",
   "language": "python",
   "name": "python3"
  },
  "language_info": {
   "codemirror_mode": {
    "name": "ipython",
    "version": 3
   },
   "file_extension": ".py",
   "mimetype": "text/x-python",
   "name": "python",
   "nbconvert_exporter": "python",
   "pygments_lexer": "ipython3",
   "version": "3.8.8"
  }
 },
 "nbformat": 4,
 "nbformat_minor": 5
}
