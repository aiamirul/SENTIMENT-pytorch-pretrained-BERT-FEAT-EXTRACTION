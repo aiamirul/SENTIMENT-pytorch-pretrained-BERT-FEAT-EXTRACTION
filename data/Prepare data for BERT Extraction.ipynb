{
 "cells": [
  {
   "cell_type": "code",
   "execution_count": 57,
   "id": "c8c0379d",
   "metadata": {},
   "outputs": [],
   "source": [
    "rootDirectory = \"C:/Users/USER/Documents/GitHub/pytorch-pretrained-BERT/\"\n",
    "inputPath = rootDirectory + \"oversampling.csv\"\n",
    "import pandas as pd\n",
    "\n",
    "#Read Json\n",
    "df = pd.read_csv(inputPath)\n",
    "\n",
    "lema = df[['Lemmatize','Label']]"
   ]
  },
  {
   "cell_type": "code",
   "execution_count": 63,
   "id": "b973fe0f",
   "metadata": {},
   "outputs": [],
   "source": [
    "lemaPositive = lema[lema['Label'] == 'POSITIVE']\n",
    "lemaPositive\n",
    "\n",
    "\n",
    "cleanData = lemaPositive['Lemmatize']\n",
    "cleanData.to_csv('PositiveData.csv', header = False,index = False)"
   ]
  },
  {
   "cell_type": "code",
   "execution_count": 64,
   "id": "f60a4945",
   "metadata": {},
   "outputs": [],
   "source": [
    "lemaNeutral = lema[lema['Label'] == 'NEUTRAL']\n",
    "lemaNeutral\n",
    "\n",
    "cleanData = lemaNeutral['Lemmatize']\n",
    "cleanData.to_csv('NeutralData.csv', header = False,index = False)"
   ]
  },
  {
   "cell_type": "code",
   "execution_count": 66,
   "id": "7b9eabab",
   "metadata": {},
   "outputs": [],
   "source": [
    "lemaNegative = lema[lema['Label'] == 'NEGATIVE']\n",
    "lemaNegative\n",
    "\n",
    "cleanData = lemaNegative['Lemmatize']\n",
    "cleanData.to_csv('NegativeData.csv',header = False,index = False)"
   ]
  },
  {
   "cell_type": "code",
   "execution_count": null,
   "id": "5ace3795",
   "metadata": {},
   "outputs": [],
   "source": []
  },
  {
   "cell_type": "code",
   "execution_count": null,
   "id": "9da10022",
   "metadata": {},
   "outputs": [],
   "source": []
  }
 ],
 "metadata": {
  "kernelspec": {
   "display_name": "Python 3 (ipykernel)",
   "language": "python",
   "name": "python3"
  },
  "language_info": {
   "codemirror_mode": {
    "name": "ipython",
    "version": 3
   },
   "file_extension": ".py",
   "mimetype": "text/x-python",
   "name": "python",
   "nbconvert_exporter": "python",
   "pygments_lexer": "ipython3",
   "version": "3.9.7"
  }
 },
 "nbformat": 4,
 "nbformat_minor": 5
}
