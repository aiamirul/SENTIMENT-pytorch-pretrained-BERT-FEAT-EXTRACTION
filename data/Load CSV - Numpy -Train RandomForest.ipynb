{
 "cells": [
  {
   "cell_type": "markdown",
   "id": "2a6f2f06",
   "metadata": {},
   "source": [
    "# Load 1 by 1 JSON output and make a CSV for 1 class (repeat each class)"
   ]
  },
  {
   "cell_type": "code",
   "execution_count": 1,
   "id": "0951924b",
   "metadata": {},
   "outputs": [],
   "source": [
    "import pandas as pd\n",
    "import numpy as np\n",
    "vertical_stack.to_csv(\"BERT-DATASET.csv\",index=False)\n",
    "vertical_stack.shape"
   ]
  },
  {
   "cell_type": "code",
   "execution_count": 72,
   "id": "4acdbdd0",
   "metadata": {},
   "outputs": [
    {
     "data": {
      "text/plain": [
       "(14558, 769)"
      ]
     },
     "execution_count": 72,
     "metadata": {},
     "output_type": "execute_result"
    }
   ],
   "source": [
    "#REMOVE COLUMN NAME\n",
    "cleanData = vertical_stack.iloc[1: , :]\n",
    "cleanData.shape"
   ]
  },
  {
   "cell_type": "code",
   "execution_count": 62,
   "id": "4ec40e92",
   "metadata": {},
   "outputs": [
    {
     "data": {
      "text/plain": [
       "(14558, 768)"
      ]
     },
     "execution_count": 62,
     "metadata": {},
     "output_type": "execute_result"
    }
   ],
   "source": [
    "# SEPERATE FEATURES\n",
    "df = cleanData\n",
    "X = df.iloc[: , :-1]\n",
    "X.shape"
   ]
  },
  {
   "cell_type": "code",
   "execution_count": 63,
   "id": "bad2a7fd",
   "metadata": {},
   "outputs": [],
   "source": [
    "XX = X.to_numpy()\n",
    "XX"
   ]
  },
  {
   "cell_type": "code",
   "execution_count": 82,
   "id": "63226255",
   "metadata": {},
   "outputs": [
    {
     "data": {
      "text/plain": [
       "(14558,)"
      ]
     },
     "execution_count": 82,
     "metadata": {},
     "output_type": "execute_result"
    }
   ],
   "source": [
    "# SEPERATE LABEL\n",
    "y = cleanData['LABEL']\n",
    "y.shape"
   ]
  },
  {
   "cell_type": "code",
   "execution_count": 83,
   "id": "a8d9405b",
   "metadata": {},
   "outputs": [],
   "source": [
    "yy = y.to_numpy()\n",
    "yy"
   ]
  },
  {
   "cell_type": "code",
   "execution_count": 86,
   "id": "a9e98d8a",
   "metadata": {},
   "outputs": [],
   "source": [
    "np.save('X.npy', XX)\n",
    "np.save('y.npy', yy)\n",
    "\n"
   ]
  },
  {
   "cell_type": "code",
   "execution_count": null,
   "id": "1758b19a",
   "metadata": {},
   "outputs": [],
   "source": [
    "# Import the model we are using\n",
    "from sklearn.ensemble import RandomForestRegressor# Instantiate model with 1000 decision trees\n",
    "rf = RandomForestRegressor(n_estimators = 100, random_state = 42)# Train the model on training data\n",
    "rf.fit(XX, yy);"
   ]
  },
  {
   "cell_type": "code",
   "execution_count": null,
   "id": "7a89c9ba",
   "metadata": {},
   "outputs": [],
   "source": [
    "rf"
   ]
  },
  {
   "cell_type": "code",
   "execution_count": null,
   "id": "af73c297",
   "metadata": {},
   "outputs": [],
   "source": []
  }
 ],
 "metadata": {
  "kernelspec": {
   "display_name": "Python 3",
   "language": "python",
   "name": "python3"
  },
  "language_info": {
   "codemirror_mode": {
    "name": "ipython",
    "version": 3
   },
   "file_extension": ".py",
   "mimetype": "text/x-python",
   "name": "python",
   "nbconvert_exporter": "python",
   "pygments_lexer": "ipython3",
   "version": "3.8.8"
  }
 },
 "nbformat": 4,
 "nbformat_minor": 5
}
